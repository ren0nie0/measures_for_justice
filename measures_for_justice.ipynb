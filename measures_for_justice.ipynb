{
 "cells": [
  {
   "cell_type": "code",
   "execution_count": 10,
   "id": "b2093be1",
   "metadata": {},
   "outputs": [],
   "source": [
    "import pandas as pd\n",
    "data = 'data/data-2009-2013-al.csv'\n",
    "filters = 'data/filters.csv'\n",
    "measures = 'data/measures.csv'\n",
    "location = 'data/locations-al.csv'\n",
    "\n",
    "data = pd.read_csv(data)\n",
    "filters = pd.read_csv(filters)\n",
    "measures = pd.read_csv(measures)\n",
    "location = pd.read_csv(location)"
   ]
  },
  {
   "cell_type": "code",
   "execution_count": 11,
   "id": "1fdbdf8e",
   "metadata": {},
   "outputs": [],
   "source": [
    "import sqlite3\n",
    "conn = sqlite3.connect('data/measures.db')"
   ]
  },
  {
   "cell_type": "code",
   "execution_count": 12,
   "id": "7c74e3b6",
   "metadata": {},
   "outputs": [
    {
     "ename": "ValueError",
     "evalue": "Table 'data' already exists.",
     "output_type": "error",
     "traceback": [
      "\u001b[0;31m---------------------------------------------------------------------------\u001b[0m",
      "\u001b[0;31mValueError\u001b[0m                                Traceback (most recent call last)",
      "\u001b[1;32m/Users/brianrennie/Documents/CODE/measures_for_justice/measures_for_justice.ipynb Cell 3'\u001b[0m in \u001b[0;36m<cell line: 1>\u001b[0;34m()\u001b[0m\n\u001b[0;32m----> <a href='vscode-notebook-cell:/Users/brianrennie/Documents/CODE/measures_for_justice/measures_for_justice.ipynb#ch0000002?line=0'>1</a>\u001b[0m data\u001b[39m.\u001b[39;49mto_sql(\u001b[39m'\u001b[39;49m\u001b[39mdata\u001b[39;49m\u001b[39m'\u001b[39;49m, conn)\n\u001b[1;32m      <a href='vscode-notebook-cell:/Users/brianrennie/Documents/CODE/measures_for_justice/measures_for_justice.ipynb#ch0000002?line=1'>2</a>\u001b[0m filters\u001b[39m.\u001b[39mto_sql(\u001b[39m'\u001b[39m\u001b[39mfilters\u001b[39m\u001b[39m'\u001b[39m, conn)\n\u001b[1;32m      <a href='vscode-notebook-cell:/Users/brianrennie/Documents/CODE/measures_for_justice/measures_for_justice.ipynb#ch0000002?line=2'>3</a>\u001b[0m measures\u001b[39m.\u001b[39mto_sql(\u001b[39m'\u001b[39m\u001b[39mmeasures\u001b[39m\u001b[39m'\u001b[39m, conn)\n",
      "File \u001b[0;32m/opt/homebrew/lib/python3.9/site-packages/pandas/core/generic.py:2872\u001b[0m, in \u001b[0;36mNDFrame.to_sql\u001b[0;34m(self, name, con, schema, if_exists, index, index_label, chunksize, dtype, method)\u001b[0m\n\u001b[1;32m   2734\u001b[0m \u001b[39m\"\"\"\u001b[39;00m\n\u001b[1;32m   2735\u001b[0m \u001b[39mWrite records stored in a DataFrame to a SQL database.\u001b[39;00m\n\u001b[1;32m   2736\u001b[0m \n\u001b[0;32m   (...)\u001b[0m\n\u001b[1;32m   2868\u001b[0m \u001b[39m[(1,), (None,), (2,)]\u001b[39;00m\n\u001b[1;32m   2869\u001b[0m \u001b[39m\"\"\"\u001b[39;00m\n\u001b[1;32m   2870\u001b[0m \u001b[39mfrom\u001b[39;00m \u001b[39mpandas\u001b[39;00m\u001b[39m.\u001b[39;00m\u001b[39mio\u001b[39;00m \u001b[39mimport\u001b[39;00m sql\n\u001b[0;32m-> 2872\u001b[0m sql\u001b[39m.\u001b[39;49mto_sql(\n\u001b[1;32m   2873\u001b[0m     \u001b[39mself\u001b[39;49m,\n\u001b[1;32m   2874\u001b[0m     name,\n\u001b[1;32m   2875\u001b[0m     con,\n\u001b[1;32m   2876\u001b[0m     schema\u001b[39m=\u001b[39;49mschema,\n\u001b[1;32m   2877\u001b[0m     if_exists\u001b[39m=\u001b[39;49mif_exists,\n\u001b[1;32m   2878\u001b[0m     index\u001b[39m=\u001b[39;49mindex,\n\u001b[1;32m   2879\u001b[0m     index_label\u001b[39m=\u001b[39;49mindex_label,\n\u001b[1;32m   2880\u001b[0m     chunksize\u001b[39m=\u001b[39;49mchunksize,\n\u001b[1;32m   2881\u001b[0m     dtype\u001b[39m=\u001b[39;49mdtype,\n\u001b[1;32m   2882\u001b[0m     method\u001b[39m=\u001b[39;49mmethod,\n\u001b[1;32m   2883\u001b[0m )\n",
      "File \u001b[0;32m/opt/homebrew/lib/python3.9/site-packages/pandas/io/sql.py:717\u001b[0m, in \u001b[0;36mto_sql\u001b[0;34m(frame, name, con, schema, if_exists, index, index_label, chunksize, dtype, method, engine, **engine_kwargs)\u001b[0m\n\u001b[1;32m    712\u001b[0m \u001b[39melif\u001b[39;00m \u001b[39mnot\u001b[39;00m \u001b[39misinstance\u001b[39m(frame, DataFrame):\n\u001b[1;32m    713\u001b[0m     \u001b[39mraise\u001b[39;00m \u001b[39mNotImplementedError\u001b[39;00m(\n\u001b[1;32m    714\u001b[0m         \u001b[39m\"\u001b[39m\u001b[39m'\u001b[39m\u001b[39mframe\u001b[39m\u001b[39m'\u001b[39m\u001b[39m argument should be either a Series or a DataFrame\u001b[39m\u001b[39m\"\u001b[39m\n\u001b[1;32m    715\u001b[0m     )\n\u001b[0;32m--> 717\u001b[0m pandas_sql\u001b[39m.\u001b[39;49mto_sql(\n\u001b[1;32m    718\u001b[0m     frame,\n\u001b[1;32m    719\u001b[0m     name,\n\u001b[1;32m    720\u001b[0m     if_exists\u001b[39m=\u001b[39;49mif_exists,\n\u001b[1;32m    721\u001b[0m     index\u001b[39m=\u001b[39;49mindex,\n\u001b[1;32m    722\u001b[0m     index_label\u001b[39m=\u001b[39;49mindex_label,\n\u001b[1;32m    723\u001b[0m     schema\u001b[39m=\u001b[39;49mschema,\n\u001b[1;32m    724\u001b[0m     chunksize\u001b[39m=\u001b[39;49mchunksize,\n\u001b[1;32m    725\u001b[0m     dtype\u001b[39m=\u001b[39;49mdtype,\n\u001b[1;32m    726\u001b[0m     method\u001b[39m=\u001b[39;49mmethod,\n\u001b[1;32m    727\u001b[0m     engine\u001b[39m=\u001b[39;49mengine,\n\u001b[1;32m    728\u001b[0m     \u001b[39m*\u001b[39;49m\u001b[39m*\u001b[39;49mengine_kwargs,\n\u001b[1;32m    729\u001b[0m )\n",
      "File \u001b[0;32m/opt/homebrew/lib/python3.9/site-packages/pandas/io/sql.py:2225\u001b[0m, in \u001b[0;36mSQLiteDatabase.to_sql\u001b[0;34m(self, frame, name, if_exists, index, index_label, schema, chunksize, dtype, method, **kwargs)\u001b[0m\n\u001b[1;32m   2214\u001b[0m             \u001b[39mraise\u001b[39;00m \u001b[39mValueError\u001b[39;00m(\u001b[39mf\u001b[39m\u001b[39m\"\u001b[39m\u001b[39m{\u001b[39;00mcol\u001b[39m}\u001b[39;00m\u001b[39m (\u001b[39m\u001b[39m{\u001b[39;00mmy_type\u001b[39m}\u001b[39;00m\u001b[39m) not a string\u001b[39m\u001b[39m\"\u001b[39m)\n\u001b[1;32m   2216\u001b[0m table \u001b[39m=\u001b[39m SQLiteTable(\n\u001b[1;32m   2217\u001b[0m     name,\n\u001b[1;32m   2218\u001b[0m     \u001b[39mself\u001b[39m,\n\u001b[0;32m   (...)\u001b[0m\n\u001b[1;32m   2223\u001b[0m     dtype\u001b[39m=\u001b[39mdtype,\n\u001b[1;32m   2224\u001b[0m )\n\u001b[0;32m-> 2225\u001b[0m table\u001b[39m.\u001b[39;49mcreate()\n\u001b[1;32m   2226\u001b[0m table\u001b[39m.\u001b[39minsert(chunksize, method)\n",
      "File \u001b[0;32m/opt/homebrew/lib/python3.9/site-packages/pandas/io/sql.py:858\u001b[0m, in \u001b[0;36mSQLTable.create\u001b[0;34m(self)\u001b[0m\n\u001b[1;32m    856\u001b[0m \u001b[39mif\u001b[39;00m \u001b[39mself\u001b[39m\u001b[39m.\u001b[39mexists():\n\u001b[1;32m    857\u001b[0m     \u001b[39mif\u001b[39;00m \u001b[39mself\u001b[39m\u001b[39m.\u001b[39mif_exists \u001b[39m==\u001b[39m \u001b[39m\"\u001b[39m\u001b[39mfail\u001b[39m\u001b[39m\"\u001b[39m:\n\u001b[0;32m--> 858\u001b[0m         \u001b[39mraise\u001b[39;00m \u001b[39mValueError\u001b[39;00m(\u001b[39mf\u001b[39m\u001b[39m\"\u001b[39m\u001b[39mTable \u001b[39m\u001b[39m'\u001b[39m\u001b[39m{\u001b[39;00m\u001b[39mself\u001b[39m\u001b[39m.\u001b[39mname\u001b[39m}\u001b[39;00m\u001b[39m'\u001b[39m\u001b[39m already exists.\u001b[39m\u001b[39m\"\u001b[39m)\n\u001b[1;32m    859\u001b[0m     \u001b[39melif\u001b[39;00m \u001b[39mself\u001b[39m\u001b[39m.\u001b[39mif_exists \u001b[39m==\u001b[39m \u001b[39m\"\u001b[39m\u001b[39mreplace\u001b[39m\u001b[39m\"\u001b[39m:\n\u001b[1;32m    860\u001b[0m         \u001b[39mself\u001b[39m\u001b[39m.\u001b[39mpd_sql\u001b[39m.\u001b[39mdrop_table(\u001b[39mself\u001b[39m\u001b[39m.\u001b[39mname, \u001b[39mself\u001b[39m\u001b[39m.\u001b[39mschema)\n",
      "\u001b[0;31mValueError\u001b[0m: Table 'data' already exists."
     ]
    }
   ],
   "source": [
    "data.to_sql('data', conn)\n",
    "filters.to_sql('filters', conn)\n",
    "measures.to_sql('measures', conn)\n",
    "location.to_sql('location', conn)\n"
   ]
  }
 ],
 "metadata": {
  "kernelspec": {
   "display_name": "Python 3.9.13 64-bit",
   "language": "python",
   "name": "python3"
  },
  "language_info": {
   "codemirror_mode": {
    "name": "ipython",
    "version": 3
   },
   "file_extension": ".py",
   "mimetype": "text/x-python",
   "name": "python",
   "nbconvert_exporter": "python",
   "pygments_lexer": "ipython3",
   "version": "3.9.13"
  },
  "vscode": {
   "interpreter": {
    "hash": "b0fa6594d8f4cbf19f97940f81e996739fb7646882a419484c72d19e05852a7e"
   }
  }
 },
 "nbformat": 4,
 "nbformat_minor": 5
}
